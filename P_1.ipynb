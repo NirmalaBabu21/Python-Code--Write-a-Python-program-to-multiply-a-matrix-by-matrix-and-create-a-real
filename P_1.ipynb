{
  "nbformat": 4,
  "nbformat_minor": 0,
  "metadata": {
    "colab": {
      "name": "P-1.ipynb",
      "provenance": []
    },
    "kernelspec": {
      "name": "python3",
      "display_name": "Python 3"
    },
    "language_info": {
      "name": "python"
    }
  },
  "cells": [
    {
      "cell_type": "markdown",
      "source": [
        "Problem Statement 1: Write a Python program to multiply a 𝑀 × 𝑁 matrix by 𝑁 × 𝐴 matrix and\n",
        "create a real matrix product."
      ],
      "metadata": {
        "id": "xgo4iYDjLeQW"
      }
    },
    {
      "cell_type": "code",
      "source": [
        "m = int(input (\"Enter a number:\"))\n",
        "n = int(input (\"Enter a number:\"))\n",
        "a = int(input (\"Enter a number:\"))\n",
        "\n",
        "import numpy as np\n",
        "\n",
        "\n",
        "Matrix1= np.random.uniform(0,1, size=(m,n))\n",
        "Matrix2 = np.random.uniform(0,1, size=(n,a))\n",
        "print(\"First Matrix:\")\n",
        "print(Matrix1)\n",
        "print(\"Second Matrix:\")\n",
        "print(Matrix2)\n",
        "result = np.dot(Matrix1, Matrix2)\n",
        "print(\"Dot product of two arrays:\")\n",
        "print(result)"
      ],
      "metadata": {
        "colab": {
          "base_uri": "https://localhost:8080/"
        },
        "id": "pG_jiGIQSdVw",
        "outputId": "dae199af-ba24-47e4-9fca-6528453e66ff"
      },
      "execution_count": null,
      "outputs": [
        {
          "output_type": "stream",
          "name": "stdout",
          "text": [
            "Enter a number:5\n",
            "Enter a number:3\n",
            "Enter a number:2\n",
            "First Matrix:\n",
            "[[0.85993516 0.25609084 0.00119217]\n",
            " [0.42314663 0.69742245 0.51779734]\n",
            " [0.23272236 0.63643256 0.29311776]\n",
            " [0.09252556 0.09207653 0.37395902]\n",
            " [0.58010896 0.86072809 0.32763676]]\n",
            "Second Matrix:\n",
            "[[0.96851833 0.53710672]\n",
            " [0.35091615 0.71768245]\n",
            " [0.75639188 0.37136814]]\n",
            "Dot product of two arrays:\n",
            "[[0.92363112 0.64611159]\n",
            " [1.04621978 0.92009619]\n",
            " [0.67044222 0.69060782]\n",
            " [0.40478341 0.25465427]\n",
            " [1.11171134 1.05098373]]\n"
          ]
        }
      ]
    }
  ]
}